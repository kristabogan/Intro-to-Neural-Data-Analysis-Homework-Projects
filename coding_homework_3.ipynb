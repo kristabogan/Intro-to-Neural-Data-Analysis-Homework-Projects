{
  "nbformat": 4,
  "nbformat_minor": 0,
  "metadata": {
    "colab": {
      "provenance": [],
      "include_colab_link": true
    },
    "kernelspec": {
      "name": "python3",
      "display_name": "Python 3"
    },
    "language_info": {
      "name": "python"
    }
  },
  "cells": [
    {
      "cell_type": "markdown",
      "metadata": {
        "id": "view-in-github",
        "colab_type": "text"
      },
      "source": [
        "<a href=\"https://colab.research.google.com/github/kristabogan/neur265/blob/main/coding_homework_3.ipynb\" target=\"_parent\"><img src=\"https://colab.research.google.com/assets/colab-badge.svg\" alt=\"Open In Colab\"/></a>"
      ]
    },
    {
      "cell_type": "code",
      "source": [],
      "metadata": {
        "id": "X86AD51kqPc5"
      },
      "execution_count": null,
      "outputs": []
    },
    {
      "cell_type": "markdown",
      "source": [
        "# Coding Homework #3\n",
        "\n",
        "**Instructions**\n",
        "\n",
        "1. Make a *Markdown Cell* that contains the following information:\n",
        "- Your name (small header)\n",
        "- The name of this class (italicized)\n",
        "- The date (bolded)\n",
        "\n",
        "2. Make a *Code Cell* that imports <code>numpy</code> as <code>np</code>, <code>matplotlib.pyplot</code> as <code>plt</code>, and <code>scipy.stats</code> as <code>stats</code>.\n",
        "\n",
        "3. Make a *Code Cell* that imports your <code>v_rest1.csv</code> and <code>v_rest2.csv</code> variables as <code>numpy</code> arrays called <code>v_rest1</code> and <code>v_rest2</code> respectively.\n",
        "\n",
        "4. Make a *Code Cell* that does the following:\n",
        "  \n",
        "  a. Finds the means of <code>v_rest1</code> and <code>v_rest2</code>.\n",
        "  \n",
        "  b. Performs a t-test to test the null hypothesis that the means of <code>v_rest1</code> and <code>v_rest2</code> come from different distributions.\n",
        "\n",
        "  c. Plots a histogram of <code>v_rest1</code> in one subplot, and a histogram of <code>v_rest2</code> in another subplot if the p-value of the t-test is > 0.05. You can make two subplots using the syntax <code>fig, ax = plt.subplots(1,1)</code>.\n",
        "\n",
        "  d. Labels the y-axis and x-axis of your histograms (recall that <code>ax.ylabel</code> and <code>ax.xlabel</code> are the methods that let you accomplish this).\n",
        "\n",
        "5. Make a *Code Cell* that defines a function called <code>vrestHist()</code>. This function should execute the code in step 4 when called. Remember to tell python that you want the function to show your plots when you call it!\n",
        "\n",
        "6. Make a *Code Cell* that calls <code>vrestHist()</code>.\n",
        "\n",
        "7. Make a *Code Cell* that does the following:\n",
        "\n",
        "    a. Loops through each column of <code>v_rest1</code> and <code>v_rest2</code> and makes a scatter plot with <code>v_rest1</code> on the x-axis and <code>v_rest2</code> on the y-axis. \n",
        "\n",
        "    b. Each iteration of your loop should plot a different point on the scatter plot. At the end of your loop, you should have only one scatter plot with number of data points equal to the length of <code>v_rest1</code> and <code>v_rest2</code>.\n",
        "\n",
        "    c. Your loop should plot a <font color = 'red'>red</font> dot if *both* values in <code>v_rest1</code> and <code>v_rest2</code> are greater than -60, a <font color = 'green'>green</font> dot if values in <code>v_rest1</code> are greater than -60, but values in <code>v_rest2</code> are less than -60, and a <font color = 'blue'>blue</font> dot if *both* values in <code>v_rest1</code> and <code>v_rest2</code> are less than -60. \n",
        "\n",
        "    d. Labels your y-axis and your x-axis (this code should be outside of your loop).\n",
        "\n",
        "8. Make a *Code Cell* that defines a function called <code>vrestScatter()</code>. This function should execute the code in step 7 when called. Remember to tell python that you want the function to show your plot when you call it!\n",
        "\n",
        "9. Save a copy of this notebook to your GitHub repo with the title \"coding_homework_3.ipynb\"."
      ],
      "metadata": {
        "id": "zbzMCJlMN3ph"
      }
    },
    {
      "cell_type": "markdown",
      "source": [
        "###Krista Bogan\n",
        "*NEUR265*\n",
        "\n",
        "**2/27/23**"
      ],
      "metadata": {
        "id": "iPBw2JOunBTH"
      }
    },
    {
      "cell_type": "code",
      "source": [
        "#Imports numpy, matplotlib,and scipy\n",
        "import numpy as np\n",
        "import matplotlib.pyplot as plt\n",
        "import scipy.stats as stats"
      ],
      "metadata": {
        "id": "v-LB-DJVnJFT"
      },
      "execution_count": 2,
      "outputs": []
    },
    {
      "cell_type": "code",
      "source": [
        "#Imports vrest_1 and vrest_2 from my Github\n",
        "v_rest1 = np.loadtxt('https://raw.githubusercontent.com/kristabogan/neur265/main/Data%20for%20HW/vrest_1.csv')\n",
        "v_rest2 = np.loadtxt('https://raw.githubusercontent.com/kristabogan/neur265/main/Data%20for%20HW/vrest_2.csv')"
      ],
      "metadata": {
        "id": "agaY0Er0n5pL"
      },
      "execution_count": 3,
      "outputs": []
    },
    {
      "cell_type": "code",
      "source": [
        "#Finds the mean of vrest_1 and vrest_2\n",
        "v_rest1mean = np.mean(v_rest1)\n",
        "v_rest2mean = np.mean(v_rest2)\n",
        "v_rest1mean, v_rest2mean"
      ],
      "metadata": {
        "id": "VoD5lCLsoEwl",
        "outputId": "dbfe3174-d1cb-458a-fd4b-06897325977d",
        "colab": {
          "base_uri": "https://localhost:8080/"
        }
      },
      "execution_count": 4,
      "outputs": [
        {
          "output_type": "execute_result",
          "data": {
            "text/plain": [
              "(-71.15448011384616, -70.40336013538462)"
            ]
          },
          "metadata": {},
          "execution_count": 4
        }
      ]
    },
    {
      "cell_type": "code",
      "source": [
        "#Performs a t-test on the two means and grabs the p-value\n",
        "stat = stats.ttest_ind(v_rest1, v_rest2)"
      ],
      "metadata": {
        "id": "2Z4Avdq8o-x8",
        "colab": {
          "base_uri": "https://localhost:8080/"
        },
        "outputId": "431003c4-f04f-4c8f-864a-62d8f36599b8"
      },
      "execution_count": 13,
      "outputs": [
        {
          "output_type": "execute_result",
          "data": {
            "text/plain": [
              "0.7242342713036514"
            ]
          },
          "metadata": {},
          "execution_count": 13
        }
      ]
    },
    {
      "cell_type": "code",
      "source": [
        "#Plots a subplot histogram of v_rest1 and a subplot histogram of v_rest2 if pvalue is > 0.05(if pvalue > 0.05)\n",
        "fig, ax = plt.subplots(2,1,figsize=(10,13))\n",
        "\n",
        "if stat.pvalue > 0.05:\n",
        "  ax[1].hist(v_rest2)\n",
        "  ax[0].hist(v_rest1)\n",
        "  ax[1].set_ylabel('Count')\n",
        "  ax[1].set_xlabel('Resting Membrance Potential')\n",
        "  ax[1].set_title('V_Rest 2') \n",
        "else:\n",
        "  ax[0].hist(v_rest1)\n",
        "\n",
        "ax[0].set_ylabel('Count')\n",
        "ax[0].set_xlabel('Resting Membrance Potential')\n",
        "ax[0].set_title('V_Rest 1')"
      ],
      "metadata": {
        "id": "asD_C3vnqNLi",
        "outputId": "33e396be-81ff-41d3-df85-0988f7e96b69",
        "colab": {
          "base_uri": "https://localhost:8080/",
          "height": 802
        }
      },
      "execution_count": 23,
      "outputs": [
        {
          "output_type": "execute_result",
          "data": {
            "text/plain": [
              "Text(0.5, 1.0, 'V_Rest 1')"
            ]
          },
          "metadata": {},
          "execution_count": 23
        },
        {
          "output_type": "display_data",
          "data": {
            "text/plain": [
              "<Figure size 720x936 with 2 Axes>"
            ],
            "image/png": "[encoded data removed]"
          },
          "metadata": {
            "needs_background": "light"
          }
        }
      ]
    },
    {
      "cell_type": "code",
      "source": [
        "#Creates a function that makes a histogram of both v_rest1 and v_rest2 (plots v_rest2 only if p-value > 0.05)\n",
        "def vrestHist():\n",
        "    \"\"\"\n",
        "    This is a function that will create a subplot histogram of both vrest_1 and vrest_2 (plots v_rest2 only if p-value > 0.05)\n",
        "    \"\"\"\n",
        "    fig, ax = plt.subplots(2,1,figsize=(10,13))\n",
        "    if stat.pvalue > 0.05:\n",
        "      ax[1].hist(v_rest2)\n",
        "      ax[0].hist(v_rest1)\n",
        "      ax[1].set_ylabel('Count')\n",
        "      ax[1].set_xlabel('Resting Membrance Potential')\n",
        "      ax[1].set_title('V_Rest 2') \n",
        "    else:\n",
        "      ax[0].hist(v_rest1)\n",
        "\n",
        "    ax[0].set_ylabel('Count')\n",
        "    ax[0].set_xlabel('Resting Membrance Potential')\n",
        "    ax[0].set_title('V_Rest 1')\n",
        "\n",
        "    plt.show()   "
      ],
      "metadata": {
        "id": "KIMJ6VU_t9Ol"
      },
      "execution_count": 24,
      "outputs": []
    },
    {
      "cell_type": "code",
      "source": [
        "#Calls function vrestHist()\n",
        "vrestHist()"
      ],
      "metadata": {
        "id": "X9aoepMVyHPe",
        "outputId": "20559417-c51b-4082-97ab-0a47918f09b9",
        "colab": {
          "base_uri": "https://localhost:8080/",
          "height": 785
        }
      },
      "execution_count": 25,
      "outputs": [
        {
          "output_type": "display_data",
          "data": {
            "text/plain": [
              "<Figure size 720x936 with 2 Axes>"
            ],
            "image/png": "[encoded data removed]"
          },
          "metadata": {
            "needs_background": "light"
          }
        }
      ]
    },
    {
      "cell_type": "code",
      "source": [
        "#First imports v_rest1 and v_rest2 as panda dfs to use with .iloc. Then, plots v_rest1 and v_rest2 on the x and y axis, respectively. Plots a red dot if both values in v_rest1 and v_rest2 are greater than -60,\n",
        "#a green dot if values in v_rest1 are greater than -60, but values in v_rest2 are less than -60, and a blue dot if both values in v_rest1 and v_rest2 are less than -60.\n",
        "import pandas as pd\n",
        "v_rest1pd = pd.read_csv('https://raw.githubusercontent.com/kristabogan/neur265/main/Data%20for%20HW/vrest_1.csv')\n",
        "v_rest2pd = pd.read_csv('https://raw.githubusercontent.com/kristabogan/neur265/main/Data%20for%20HW/vrest_2.csv')\n",
        "v_restlen = len(v_rest1pd)\n",
        "\n",
        "for i in range(v_restlen):\n",
        "  if (v_rest1[i] > -60 and v_rest2[i] > -60):\n",
        "    plt.scatter(v_rest1pd.iloc[i,0],v_rest2pd.iloc[i,0],color = \"red\")\n",
        "  elif (v_rest1[i] > -60 and v_rest2[i] < -60):\n",
        "    plt.scatter(v_rest1pd.iloc[i,0],v_rest2pd.iloc[i,0],color = \"green\")\n",
        "  elif (v_rest1[i] < -60 and v_rest2[i] < -60):\n",
        "    plt.scatter(v_rest1pd.iloc[i,0],v_rest2pd.iloc[i,0],color = \"blue\")\n",
        "    \n",
        "plt.xlabel('v_rest1')\n",
        "plt.ylabel('v_rest2')\n",
        "\n"
      ],
      "metadata": {
        "id": "1HnBh4qkz_8z",
        "outputId": "fb918fa8-80f6-4e3d-b973-a0a059513f97",
        "colab": {
          "base_uri": "https://localhost:8080/",
          "height": 297
        }
      },
      "execution_count": 10,
      "outputs": [
        {
          "output_type": "execute_result",
          "data": {
            "text/plain": [
              "Text(0, 0.5, 'v_rest2')"
            ]
          },
          "metadata": {},
          "execution_count": 10
        },
        {
          "output_type": "display_data",
          "data": {
            "text/plain": [
              "<Figure size 432x288 with 1 Axes>"
            ],
            "image/png": "[encoded data removed]"
          },
          "metadata": {
            "needs_background": "light"
          }
        }
      ]
    },
    {
      "cell_type": "code",
      "source": [
        "#Creates a function that creates a scatterplot of v_rest1 and v_rest2 as described in the last code block.\n",
        "def vrestScatter():\n",
        "    \"\"\"\n",
        "    This is a function that plots the values of v_rest1 and v_rest 2 on the x and y axes, respectively. It plots a red dot if both values in v_rest1 and v_rest2 are greater than -60,\n",
        "    a green dot if values in v_rest1 are greater than -60, but values in v_rest2 are less than -60, and a blue dot if both values in v_rest1 and v_rest2 are less than -60.\n",
        "    \"\"\"\n",
        "\n",
        "for i in range(v_restlen):\n",
        "  if (v_rest1[i] > -60 and v_rest2[i] > -60):\n",
        "    plt.scatter(v_rest1pd.iloc[i,0],v_rest2pd.iloc[i,0],color = \"red\")\n",
        "  elif (v_rest1[i] > -60 and v_rest2[i] < -60):\n",
        "    plt.scatter(v_rest1pd.iloc[i,0],v_rest2pd.iloc[i,0],color = \"green\")\n",
        "  elif (v_rest1[i] < -60 and v_rest2[i] < -60):\n",
        "    plt.scatter(v_rest1pd.iloc[i,0],v_rest2pd.iloc[i,0],color = \"blue\")\n",
        "    \n",
        "  plt.xlabel('v_rest1')\n",
        "  plt.ylabel('v_rest2')\n",
        "  \n",
        "plt.show()   "
      ],
      "metadata": {
        "id": "rC0jP2y-kXfn",
        "outputId": "fc381328-4891-4dab-af0e-893ceb282897",
        "colab": {
          "base_uri": "https://localhost:8080/",
          "height": 280
        }
      },
      "execution_count": 11,
      "outputs": [
        {
          "output_type": "display_data",
          "data": {
            "text/plain": [
              "<Figure size 432x288 with 1 Axes>"
            ],
            "image/png": "[encoded data removed]"
          },
          "metadata": {
            "needs_background": "light"
          }
        }
      ]
    }
  ]
}