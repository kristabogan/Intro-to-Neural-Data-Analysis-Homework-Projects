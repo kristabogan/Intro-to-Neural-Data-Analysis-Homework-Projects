{
  "nbformat": 4,
  "nbformat_minor": 0,
  "metadata": {
    "colab": {
      "provenance": [],
      "include_colab_link": true
    },
    "kernelspec": {
      "name": "python3",
      "display_name": "Python 3"
    },
    "language_info": {
      "name": "python"
    }
  },
  "cells": [
    {
      "cell_type": "markdown",
      "metadata": {
        "id": "view-in-github",
        "colab_type": "text"
      },
      "source": [
        "<a href=\"https://colab.research.google.com/github/kristabogan/neur265/blob/main/coding_homework_2.ipynb\" target=\"_parent\"><img src=\"https://colab.research.google.com/assets/colab-badge.svg\" alt=\"Open In Colab\"/></a>"
      ]
    },
    {
      "cell_type": "markdown",
      "source": [
        "# Coding Homework #2\n",
        "\n",
        "**Instructions:**\n",
        "\n",
        "1. Make a *Markdown Cell* that contains the following information:\n",
        "- Your name (small header)\n",
        "- The name of this class (italicized)\n",
        "- The date (bolded)\n",
        "\n",
        "2. Make a *Code Cell* that imports <code>numpy</code> as <code>np</code>, <code>matplotlib.pyplot</code> as <code>plt</code>, <code>statistics</code> as <code>st</code>.\n",
        "\n",
        "3. Make a *Code Cell* that imports your <code>v_rest1.csv</code> and <code>v_rest2.csv</code> files as <code>numpy</code> arrays called <code>v_rest1</code> and <code>v_rest2</code> respectively. You're used to doing this with the <code>pd.read_csv</code> function for <code>pandas</code>, but can accomplish the same thing using the <code>np.loadtxt</code> function for <code>numpy</code>.\n",
        "\n",
        "4. Make a *Code Cell* that concatenates <code>v_rest1</code> and <code>v_rest2</code> into a matrix with 2 rows and 13 columns named <code>v_rest</code>.\n",
        "\n",
        "5. Make a *Code Cell* that prints the <code>size</code> of <code>v_rest</code>.\n",
        "\n",
        "6. Make a *Code Cell* that returns the first row of <code>v_rest</code>.\n",
        "\n",
        "7. Make a *Code Cell* that returns the sum of the values in the third column of <code>v_rest</code>. You can accomplish this by using <code>v_rest[].sum()</code>, with your index inside of the brackets. As an example, if I wanted to return the sum of the first row of <code>v_rest</code>, I could use <code>v_rest[0].sum()</code> to get my answer.\n",
        "\n",
        "8. Make a *Code Cell* that returns the second-to-last value in the second row of <code>v_rest</code> (use negative indexing for the column value).\n",
        "\n",
        "9. Create a *Code Cell* that makes a histogram of the values in the first row of <code>v_rest</code> (you can do this by using the <code>plt.hist()</code> function). Label your axes.\n",
        "\n",
        "10. Create a *Code Cell* that takes the mean of the values in the first row of <code>v_rest</code>, and assigns the mean to a variable called <code>v_rest_mean_1</code>. Do the same thing for the second row of <code>v_rest</code>, and assign the mean value of the second row to a variable called <code>v_rest_mean_2</code>. You can get the means by using the <code>st.mean()</code> function (remember to put what you want the mean *of* inside the parentheses of the function).\n",
        "\n",
        "11. Create a *Markdown Cell* that describes the difference in means between the two rows. Which one is bigger?\n",
        "\n",
        "12. How can we test whether the difference in means is *meaningful* (statistically significant)? When we're comparing two means, we can use a t-test (assuming the data are normally distributed). To use a t-test on our data, we will first need to import the <code>scipy</code> package. Create a new *Code Cell* that runs the following:\n",
        "\n",
        "<code>\n",
        "import scipy.stats as stats\n",
        "</code>\n",
        "\n",
        "13. Now, we can perform a t-test on the two rows of <code>v_rest</code>. To do this, create a new *Code Cell* that uses the <code>stats.ttest_ind()</code> function - for example:\n",
        "\n",
        "<code>\n",
        "stats.ttest_ind(row1, row2)\n",
        "</code>\n",
        "\n",
        "Replace <code>row1</code> and <code>row2</code> in this case with the first and second rows, respectively, of <code>v_rest</code>.\n",
        "\n",
        "14. Make a *Markdown Cell* that describes the results of your t-test. You should have <code>statistic</code> variable and a <code>pvalue</code> variable. The way to interpret your p-value is as a probability - specifically, the probability that the mean of one distribution could be found in the second distribution. Typically, results are considered to be \"statistically significant\" if the probability is lower than 5% - or 0.05. What is your p-value? Based on this p-value, do you think it is likely that the means are significantly different, or do you think it is likely that they are not?\n",
        "\n",
        "15. Make sure to add at least one line with a <code>#</code> in front of it to each *Code Cell* to describe what each cell does.\n",
        "\n",
        "16. Save a copy of this notebook to your GitHub repo with the title \"coding_homework_2.ipynb\"."
      ],
      "metadata": {
        "id": "CXEcCBSA_prs"
      }
    },
    {
      "cell_type": "markdown",
      "source": [
        "### Krista Bogan\n",
        "*Neur 265*\n",
        "\n",
        "**2/21/2023**"
      ],
      "metadata": {
        "id": "9oHJP68Ds3FY"
      }
    },
    {
      "cell_type": "code",
      "source": [
        "# Imports numpy, matplot, and statistics as shortcuts\n",
        "import numpy as np\n",
        "import matplotlib.pyplot as plt\n",
        "import statistics as st"
      ],
      "metadata": {
        "id": "-4OZ1Y9xtKZK"
      },
      "execution_count": 3,
      "outputs": []
    },
    {
      "cell_type": "code",
      "source": [
        "# Loads vrest_1 and vrest_2 from my github\n",
        "vrest_1 = np.loadtxt('https://raw.githubusercontent.com/kristabogan/neur265/main/Data%20for%20HW/vrest_1.csv')\n",
        "vrest_2 = np.loadtxt('https://raw.githubusercontent.com/kristabogan/neur265/main/Data%20for%20HW/vrest_2.csv')"
      ],
      "metadata": {
        "id": "kFkaa0Xotg1g"
      },
      "execution_count": 4,
      "outputs": []
    },
    {
      "cell_type": "code",
      "source": [
        "# Creates a matrix called v_rest that concatenates vrest_1 and vrest_2\n",
        "v_rest = np.array([vrest_1,vrest_2])"
      ],
      "metadata": {
        "id": "ZMfaWZIIuMU2"
      },
      "execution_count": 9,
      "outputs": []
    },
    {
      "cell_type": "code",
      "source": [
        "# Prints the size of v_rest\n",
        "print(v_rest.size)"
      ],
      "metadata": {
        "id": "G-IdcqIeu-wD",
        "outputId": "415cb691-40c5-45b4-b852-f4c76a250148",
        "colab": {
          "base_uri": "https://localhost:8080/"
        }
      },
      "execution_count": 12,
      "outputs": [
        {
          "output_type": "stream",
          "name": "stdout",
          "text": [
            "26\n"
          ]
        }
      ]
    },
    {
      "cell_type": "code",
      "source": [
        "# Prints out the first row of my matrix, v_rest\n",
        "print(v_rest[0,:])"
      ],
      "metadata": {
        "id": "1NMw6B0nvQD5",
        "outputId": "a1547b87-c9f1-4371-b2eb-c0ca5a1ca414",
        "colab": {
          "base_uri": "https://localhost:8080/"
        }
      },
      "execution_count": 16,
      "outputs": [
        {
          "output_type": "stream",
          "name": "stdout",
          "text": [
            "[-70.9914634  -60.47913827 -69.20521476 -73.83634338 -73.11017927\n",
            " -70.52308337 -81.50698789 -72.17100584 -79.49364726 -69.09640054\n",
            " -66.74785203 -68.29713898 -69.54978649]\n"
          ]
        }
      ]
    },
    {
      "cell_type": "code",
      "source": [
        "# Returns the sum of the values in the third column\n",
        "v_rest[:,2].sum()"
      ],
      "metadata": {
        "id": "sHiQSBF4wUx1",
        "outputId": "a43ce56b-489b-4623-c65b-9af6f2e77841",
        "colab": {
          "base_uri": "https://localhost:8080/"
        }
      },
      "execution_count": 13,
      "outputs": [
        {
          "output_type": "execute_result",
          "data": {
            "text/plain": [
              "-138.17902763"
            ]
          },
          "metadata": {},
          "execution_count": 13
        }
      ]
    },
    {
      "cell_type": "code",
      "source": [
        "# Prints the second to last value in the second row\n",
        "print(v_rest[1,-2])"
      ],
      "metadata": {
        "id": "Da_t4wunwtB1",
        "outputId": "4d7f9182-5236-42ff-b822-3c3775a6ed9f",
        "colab": {
          "base_uri": "https://localhost:8080/"
        }
      },
      "execution_count": 17,
      "outputs": [
        {
          "output_type": "stream",
          "name": "stdout",
          "text": [
            "-72.45362244\n"
          ]
        }
      ]
    },
    {
      "cell_type": "code",
      "source": [
        "# Creates a histogram using the first row of data\n",
        "plt.hist(v_rest[0,:])\n",
        "plt.xlabel('Resting Membrance Potential')\n",
        "plt.ylabel('Count')"
      ],
      "metadata": {
        "id": "O7bpBzg8xCHZ",
        "outputId": "55492139-9ee1-41a6-8d39-7277e4e37ff3",
        "colab": {
          "base_uri": "https://localhost:8080/",
          "height": 296
        }
      },
      "execution_count": 18,
      "outputs": [
        {
          "output_type": "execute_result",
          "data": {
            "text/plain": [
              "Text(0, 0.5, 'Count')"
            ]
          },
          "metadata": {},
          "execution_count": 18
        },
        {
          "output_type": "display_data",
          "data": {
            "text/plain": [
              "<Figure size 432x288 with 1 Axes>"
            ],
            "image/png": "[encoded data removed]"
          },
          "metadata": {
            "needs_background": "light"
          }
        }
      ]
    },
    {
      "cell_type": "code",
      "source": [
        "# Calculates & prints the means for the first and second rows as vrest_mean_1 & vrest_mean_2, respectively\n",
        "vrest_mean_1 = st.mean(v_rest[0,:])\n",
        "vrest_mean_2 = st.mean(v_rest[1,:])\n",
        "\n",
        "print(vrest_mean_1, vrest_mean_2)"
      ],
      "metadata": {
        "id": "Akt05xgSxf1k",
        "outputId": "90de6e54-48fc-4c0c-c74e-19b9bead57ac",
        "colab": {
          "base_uri": "https://localhost:8080/"
        }
      },
      "execution_count": 19,
      "outputs": [
        {
          "output_type": "stream",
          "name": "stdout",
          "text": [
            "-71.15448011384616 -70.40336013538462\n"
          ]
        }
      ]
    },
    {
      "cell_type": "markdown",
      "source": [
        "The first row has a mean of -71.15448011384616, while the second row has a mean of -70.40336013538462. Therefore, the second row has the larger mean."
      ],
      "metadata": {
        "id": "t0vQKiRBxyNu"
      }
    },
    {
      "cell_type": "code",
      "source": [
        "# Imports scipy\n",
        "import scipy.stats as stats"
      ],
      "metadata": {
        "id": "2PiT0_KV4VnL"
      },
      "execution_count": 20,
      "outputs": []
    },
    {
      "cell_type": "code",
      "source": [
        "# Performs a t-test on the two separate rows of the v_rest matrix.\n",
        "stats.ttest_ind((v_rest[0,:]), (v_rest[1,:]))"
      ],
      "metadata": {
        "id": "d7M8EOpD4a8Z",
        "outputId": "a19dbe99-848f-4e1f-daf1-dfc9472c9e29",
        "colab": {
          "base_uri": "https://localhost:8080/"
        }
      },
      "execution_count": 21,
      "outputs": [
        {
          "output_type": "execute_result",
          "data": {
            "text/plain": [
              "Ttest_indResult(statistic=-0.35696947727445494, pvalue=0.7242342713036514)"
            ]
          },
          "metadata": {},
          "execution_count": 21
        }
      ]
    },
    {
      "cell_type": "markdown",
      "source": [
        "The t-test comparing the two rows of v_rest resulted in a **p-value of 0.72**, and a **t statistic of 0.36**. To be statistically significant, a p-value must be less than 0.05. A p-value of 0.7 is much larger than 0.05, and thus it is unlikely that these two rows are statistically different from one another."
      ],
      "metadata": {
        "id": "g0eLwpUw4pZW"
      }
    }
  ]
}